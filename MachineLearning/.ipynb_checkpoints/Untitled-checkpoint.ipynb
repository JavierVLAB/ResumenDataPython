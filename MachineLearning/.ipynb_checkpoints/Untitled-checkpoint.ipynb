{
 "cells": [
  {
   "cell_type": "markdown",
   "metadata": {},
   "source": [
    "# Regresión Multivariable"
   ]
  },
  {
   "cell_type": "markdown",
   "metadata": {},
   "source": [
    "## Implementación de regresion lineal en sklearn"
   ]
  },
  {
   "cell_type": "code",
   "execution_count": 1,
   "metadata": {},
   "outputs": [],
   "source": [
    "# Import the NumPy library\n",
    "import numpy as np"
   ]
  },
  {
   "cell_type": "code",
   "execution_count": 10,
   "metadata": {},
   "outputs": [
    {
     "name": "stdout",
     "output_type": "stream",
     "text": [
      "The intercept for our model is 3.000000000000001\n",
      "The score for our model is 1.0\n"
     ]
    },
    {
     "data": {
      "text/plain": [
       "array([16.])"
      ]
     },
     "execution_count": 10,
     "metadata": {},
     "output_type": "execute_result"
    }
   ],
   "source": [
    "## Tomado del curso de introduccion a la regresion de AI-4-All-org \n",
    "\n",
    "#1. We import the linear regression model from Skicit-Learn library\n",
    "from sklearn.linear_model import LinearRegression\n",
    "\n",
    "#2. We load a toy dataset X as our training data\n",
    "X = np.array([[1, 1], [1, 2], [2, 2], [2, 3]])\n",
    "\n",
    "#3.We define our target values y = 1 * x_0 + 2 * x_1 + 3\n",
    "y = np.dot(X, np.array([1, 2])) + 3\n",
    "\n",
    "#4.We fit our linear model\n",
    "regression = LinearRegression().fit(X, y)\n",
    "\n",
    "#5.We can view the intercept of our model\n",
    "intercept = regression.intercept_ \n",
    "print(\"The intercept for our model is {}\".format(intercept))\n",
    "\n",
    "#6.We can find out the accuracy of our model using R^2 score. \n",
    "# Keep in mind that the best possible score is 1.0\n",
    "score = regression.score(X, y)\n",
    "print(\"The score for our model is {}\".format(score))\n",
    "\n",
    "#7.We can make a prediction for a new value\n",
    "regression.predict(np.array([[3, 5]]))\n"
   ]
  },
  {
   "cell_type": "code",
   "execution_count": null,
   "metadata": {},
   "outputs": [],
   "source": []
  }
 ],
 "metadata": {
  "kernelspec": {
   "display_name": "Python 3",
   "language": "python",
   "name": "python3"
  },
  "language_info": {
   "codemirror_mode": {
    "name": "ipython",
    "version": 3
   },
   "file_extension": ".py",
   "mimetype": "text/x-python",
   "name": "python",
   "nbconvert_exporter": "python",
   "pygments_lexer": "ipython3",
   "version": "3.7.4"
  }
 },
 "nbformat": 4,
 "nbformat_minor": 2
}
