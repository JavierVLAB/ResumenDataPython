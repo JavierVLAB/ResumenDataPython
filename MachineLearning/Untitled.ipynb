{
 "cells": [
  {
   "cell_type": "markdown",
   "metadata": {},
   "source": [
    "# Regresión Multivariable"
   ]
  },
  {
   "cell_type": "markdown",
   "metadata": {},
   "source": [
    "## Implementación de regresion lineal en sklearn"
   ]
  },
  {
   "cell_type": "code",
   "execution_count": 1,
   "metadata": {},
   "outputs": [],
   "source": [
    "# Import the NumPy library\n",
    "import numpy as np"
   ]
  },
  {
   "cell_type": "code",
   "execution_count": 10,
   "metadata": {},
   "outputs": [
    {
     "name": "stdout",
     "output_type": "stream",
     "text": [
      "The intercept for our model is 3.000000000000001\n",
      "The score for our model is 1.0\n"
     ]
    },
    {
     "data": {
      "text/plain": [
       "array([16.])"
      ]
     },
     "execution_count": 10,
     "metadata": {},
     "output_type": "execute_result"
    }
   ],
   "source": [
    "## Tomado del curso de introduccion a la regresion de AI-4-All-org \n",
    "\n",
    "#1. We import the linear regression model from Skicit-Learn library\n",
    "from sklearn.linear_model import LinearRegression\n",
    "\n",
    "#2. We load a toy dataset X as our training data\n",
    "X = np.array([[1, 1], [1, 2], [2, 2], [2, 3]])\n",
    "\n",
    "#3.We define our target values y = 1 * x_0 + 2 * x_1 + 3\n",
    "y = np.dot(X, np.array([1, 2])) + 3\n",
    "\n",
    "#4.We fit our linear model\n",
    "regression = LinearRegression().fit(X, y)\n",
    "\n",
    "#5.We can view the intercept of our model\n",
    "intercept = regression.intercept_ \n",
    "print(\"The intercept for our model is {}\".format(intercept))\n",
    "\n",
    "#6.We can find out the accuracy of our model using R^2 score. \n",
    "# Keep in mind that the best possible score is 1.0\n",
    "score = regression.score(X, y)\n",
    "print(\"The score for our model is {}\".format(score))\n",
    "\n",
    "#7.We can make a prediction for a new value\n",
    "regression.predict(np.array([[3, 5]]))\n"
   ]
  },
  {
   "cell_type": "markdown",
   "metadata": {},
   "source": [
    "## Ejemplo, precio de casas"
   ]
  },
  {
   "cell_type": "code",
   "execution_count": 14,
   "metadata": {},
   "outputs": [
    {
     "name": "stderr",
     "output_type": "stream",
     "text": [
      "Matplotlib is building the font cache using fc-list. This may take a moment.\n"
     ]
    }
   ],
   "source": [
    "### DO NOT MODIFY ###\n",
    "# Import Numpy, Matplotlib, Pandas, Skicit-Learn Data Science libraries to perform most of the heavy lifting for us\n",
    "import numpy as np\n",
    "import pandas as pd\n",
    "import matplotlib.pyplot as plt\n",
    "import matplotlib.mlab as mlab\n",
    "from matplotlib.gridspec import GridSpec\n",
    "import sklearn\n",
    "import seaborn as sns"
   ]
  },
  {
   "cell_type": "code",
   "execution_count": 16,
   "metadata": {},
   "outputs": [],
   "source": [
    "saratoga_df = pd.read_csv('saratoga-houses-clean-dataset.csv', sep=\",\", index_col=0)"
   ]
  },
  {
   "cell_type": "code",
   "execution_count": 17,
   "metadata": {},
   "outputs": [
    {
     "data": {
      "text/html": [
       "<div>\n",
       "<style scoped>\n",
       "    .dataframe tbody tr th:only-of-type {\n",
       "        vertical-align: middle;\n",
       "    }\n",
       "\n",
       "    .dataframe tbody tr th {\n",
       "        vertical-align: top;\n",
       "    }\n",
       "\n",
       "    .dataframe thead th {\n",
       "        text-align: right;\n",
       "    }\n",
       "</style>\n",
       "<table border=\"1\" class=\"dataframe\">\n",
       "  <thead>\n",
       "    <tr style=\"text-align: right;\">\n",
       "      <th></th>\n",
       "      <th>Price</th>\n",
       "      <th>age</th>\n",
       "      <th>landValue</th>\n",
       "      <th>livingArea</th>\n",
       "      <th>bedrooms</th>\n",
       "      <th>bathrooms</th>\n",
       "      <th>rooms</th>\n",
       "      <th>heating_hot air</th>\n",
       "      <th>heating_hot water/steam</th>\n",
       "      <th>fuel_gas</th>\n",
       "      <th>fuel_oil</th>\n",
       "      <th>waterfront_Yes</th>\n",
       "      <th>newConstruction_Yes</th>\n",
       "      <th>centralAir_Yes</th>\n",
       "    </tr>\n",
       "  </thead>\n",
       "  <tbody>\n",
       "    <tr>\n",
       "      <th>0</th>\n",
       "      <td>-0.019677</td>\n",
       "      <td>0.019118</td>\n",
       "      <td>0.020005</td>\n",
       "      <td>-0.034210</td>\n",
       "      <td>-0.034314</td>\n",
       "      <td>-0.033167</td>\n",
       "      <td>-0.021179</td>\n",
       "      <td>0</td>\n",
       "      <td>0</td>\n",
       "      <td>0</td>\n",
       "      <td>0</td>\n",
       "      <td>0</td>\n",
       "      <td>0</td>\n",
       "      <td>0</td>\n",
       "    </tr>\n",
       "    <tr>\n",
       "      <th>1</th>\n",
       "      <td>-0.002664</td>\n",
       "      <td>-0.065027</td>\n",
       "      <td>0.000448</td>\n",
       "      <td>0.009006</td>\n",
       "      <td>-0.004353</td>\n",
       "      <td>0.022833</td>\n",
       "      <td>-0.010589</td>\n",
       "      <td>0</td>\n",
       "      <td>1</td>\n",
       "      <td>1</td>\n",
       "      <td>0</td>\n",
       "      <td>0</td>\n",
       "      <td>0</td>\n",
       "      <td>0</td>\n",
       "    </tr>\n",
       "    <tr>\n",
       "      <th>2</th>\n",
       "      <td>-0.030305</td>\n",
       "      <td>0.044546</td>\n",
       "      <td>-0.026598</td>\n",
       "      <td>0.008634</td>\n",
       "      <td>0.025609</td>\n",
       "      <td>-0.033167</td>\n",
       "      <td>0.010589</td>\n",
       "      <td>0</td>\n",
       "      <td>1</td>\n",
       "      <td>1</td>\n",
       "      <td>0</td>\n",
       "      <td>0</td>\n",
       "      <td>0</td>\n",
       "      <td>0</td>\n",
       "    </tr>\n",
       "    <tr>\n",
       "      <th>3</th>\n",
       "      <td>-0.011140</td>\n",
       "      <td>-0.005987</td>\n",
       "      <td>-0.003816</td>\n",
       "      <td>0.008634</td>\n",
       "      <td>-0.004353</td>\n",
       "      <td>-0.014500</td>\n",
       "      <td>-0.021179</td>\n",
       "      <td>1</td>\n",
       "      <td>0</td>\n",
       "      <td>1</td>\n",
       "      <td>0</td>\n",
       "      <td>0</td>\n",
       "      <td>0</td>\n",
       "      <td>0</td>\n",
       "    </tr>\n",
       "    <tr>\n",
       "      <th>4</th>\n",
       "      <td>-0.043167</td>\n",
       "      <td>-0.065027</td>\n",
       "      <td>-0.009156</td>\n",
       "      <td>-0.036935</td>\n",
       "      <td>-0.034314</td>\n",
       "      <td>-0.033167</td>\n",
       "      <td>-0.042357</td>\n",
       "      <td>1</td>\n",
       "      <td>0</td>\n",
       "      <td>1</td>\n",
       "      <td>0</td>\n",
       "      <td>0</td>\n",
       "      <td>1</td>\n",
       "      <td>1</td>\n",
       "    </tr>\n",
       "  </tbody>\n",
       "</table>\n",
       "</div>"
      ],
      "text/plain": [
       "      Price       age  landValue  livingArea  bedrooms  bathrooms     rooms  \\\n",
       "0 -0.019677  0.019118   0.020005   -0.034210 -0.034314  -0.033167 -0.021179   \n",
       "1 -0.002664 -0.065027   0.000448    0.009006 -0.004353   0.022833 -0.010589   \n",
       "2 -0.030305  0.044546  -0.026598    0.008634  0.025609  -0.033167  0.010589   \n",
       "3 -0.011140 -0.005987  -0.003816    0.008634 -0.004353  -0.014500 -0.021179   \n",
       "4 -0.043167 -0.065027  -0.009156   -0.036935 -0.034314  -0.033167 -0.042357   \n",
       "\n",
       "   heating_hot air  heating_hot water/steam  fuel_gas  fuel_oil  \\\n",
       "0                0                        0         0         0   \n",
       "1                0                        1         1         0   \n",
       "2                0                        1         1         0   \n",
       "3                1                        0         1         0   \n",
       "4                1                        0         1         0   \n",
       "\n",
       "   waterfront_Yes  newConstruction_Yes  centralAir_Yes  \n",
       "0               0                    0               0  \n",
       "1               0                    0               0  \n",
       "2               0                    0               0  \n",
       "3               0                    0               0  \n",
       "4               0                    1               1  "
      ]
     },
     "execution_count": 17,
     "metadata": {},
     "output_type": "execute_result"
    }
   ],
   "source": [
    "saratoga_df.head()"
   ]
  },
  {
   "cell_type": "code",
   "execution_count": 18,
   "metadata": {},
   "outputs": [
    {
     "name": "stdout",
     "output_type": "stream",
     "text": [
      "Size and shape of Saratoga dataframe are: (1707, 14)\n"
     ]
    }
   ],
   "source": [
    "# Display the size and shape of the saratoga_df\n",
    "print(\"Size and shape of Saratoga dataframe are: {}\".format(saratoga_df.shape))"
   ]
  },
  {
   "cell_type": "code",
   "execution_count": 19,
   "metadata": {},
   "outputs": [
    {
     "data": {
      "text/plain": [
       "<seaborn.axisgrid.JointGrid at 0x1220bb310>"
      ]
     },
     "execution_count": 19,
     "metadata": {},
     "output_type": "execute_result"
    },
    {
     "data": {
      "image/png": "[encoded data removed]",
      "text/plain": [
       "<Figure size 432x432 with 3 Axes>"
      ]
     },
     "metadata": {
      "needs_background": "light"
     },
     "output_type": "display_data"
    }
   ],
   "source": [
    "sns.jointplot(x=saratoga_df['livingArea'], y=saratoga_df['Price'])"
   ]
  },
  {
   "cell_type": "code",
   "execution_count": 20,
   "metadata": {},
   "outputs": [],
   "source": [
    "#We will begin with dividing the saratoga_df dataframe into two parts, X and Y \n",
    "#X: All the independent variables(AKA the features)\n",
    "#Y: The dependent variable (AKA the price of a house)\n",
    "inputVariables=list(saratoga_df)\n",
    "del inputVariables[0]\n",
    "X=saratoga_df[inputVariables]\n",
    "Y=saratoga_df['Price']"
   ]
  },
  {
   "cell_type": "code",
   "execution_count": 21,
   "metadata": {},
   "outputs": [
    {
     "name": "stdout",
     "output_type": "stream",
     "text": [
      "Size and shape of the training features are: (1365, 13)\n",
      "Size and shape of the training labels are: (1365,)\n",
      "Size and shape of the testing features are: (342, 13)\n",
      "Size and shape of the testing labels are: (342,)\n"
     ]
    }
   ],
   "source": [
    "from sklearn.model_selection import train_test_split\n",
    "X_train, X_test, Y_train, Y_test = train_test_split(X, Y, test_size = 0.2, random_state=5)\n",
    "\n",
    "# Display the size and shape of the training, and testing datasets\n",
    "print(\"Size and shape of the training features are: {}\".format(X_train.shape))\n",
    "print(\"Size and shape of the training labels are: {}\".format(Y_train.shape))\n",
    "print(\"Size and shape of the testing features are: {}\".format(X_test.shape))\n",
    "print(\"Size and shape of the testing labels are: {}\".format(Y_test.shape))"
   ]
  },
  {
   "cell_type": "code",
   "execution_count": 22,
   "metadata": {},
   "outputs": [
    {
     "data": {
      "text/plain": [
       "LinearRegression(copy_X=True, fit_intercept=True, n_jobs=None, normalize=False)"
      ]
     },
     "execution_count": 22,
     "metadata": {},
     "output_type": "execute_result"
    }
   ],
   "source": [
    "from sklearn.linear_model import LinearRegression\n",
    "\n",
    "lm = LinearRegression()\n",
    "lm.fit(X_train, Y_train)"
   ]
  },
  {
   "cell_type": "code",
   "execution_count": 23,
   "metadata": {},
   "outputs": [
    {
     "data": {
      "text/plain": [
       "Text(0.5, 1.0, 'Actual Prices vs Predicted prices')"
      ]
     },
     "execution_count": 23,
     "metadata": {},
     "output_type": "execute_result"
    },
    {
     "data": {
      "image/png": "[encoded data removed]",
      "text/plain": [
       "<Figure size 432x288 with 1 Axes>"
      ]
     },
     "metadata": {
      "needs_background": "light"
     },
     "output_type": "display_data"
    }
   ],
   "source": [
    "Y_pred = lm.predict(X_test)\n",
    "\n",
    "plt.scatter(Y_test, Y_pred)\n",
    "plt.xlabel(\"House Actual Prices: $Y_i$\")\n",
    "plt.ylabel(\"House Predicted prices: $\\hat{Y}_i$\")\n",
    "plt.title(\"Actual Prices vs Predicted prices\")"
   ]
  },
  {
   "cell_type": "code",
   "execution_count": 24,
   "metadata": {},
   "outputs": [
    {
     "name": "stdout",
     "output_type": "stream",
     "text": [
      "The performance of the model on the training set\n",
      "--------------------------------------\n",
      "The R2 score is 0.545620736432787\n",
      "\n",
      "\n",
      "The performance of the model on the test set\n",
      "--------------------------------------\n",
      "The R2 score is 0.6475386241890753\n"
     ]
    }
   ],
   "source": [
    "# Evaluation of the training set using Rsquared Score\n",
    "\n",
    "from sklearn.metrics import r2_score\n",
    "\n",
    "# model evaluation for the training set\n",
    "y_train_predict = lm.predict(X_train)\n",
    "r2 = r2_score(Y_train, y_train_predict)\n",
    "print('The performance of the model on the training set')\n",
    "print('--------------------------------------')\n",
    "print('The R2 score is {}'.format(r2))\n",
    "print('\\n')\n",
    "\n",
    "\n",
    "# model evaluation for the testing set\n",
    "y_test_predict = lm.predict(X_test)\n",
    "r2 = r2_score(Y_test, y_test_predict)\n",
    "print('The performance of the model on the test set')\n",
    "print('--------------------------------------')\n",
    "print('The R2 score is {}'.format(r2)) "
   ]
  },
  {
   "cell_type": "code",
   "execution_count": null,
   "metadata": {},
   "outputs": [],
   "source": []
  }
 ],
 "metadata": {
  "kernelspec": {
   "display_name": "Python 3",
   "language": "python",
   "name": "python3"
  },
  "language_info": {
   "codemirror_mode": {
    "name": "ipython",
    "version": 3
   },
   "file_extension": ".py",
   "mimetype": "text/x-python",
   "name": "python",
   "nbconvert_exporter": "python",
   "pygments_lexer": "ipython3",
   "version": "3.7.4"
  }
 },
 "nbformat": 4,
 "nbformat_minor": 2
}
